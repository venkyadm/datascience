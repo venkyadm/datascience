{
 "cells": [
  {
   "cell_type": "code",
   "execution_count": 1,
   "id": "14382ce3",
   "metadata": {},
   "outputs": [],
   "source": [
    "import pandas as pd\n",
    "import numpy as np"
   ]
  },
  {
   "cell_type": "code",
   "execution_count": null,
   "id": "bd708016",
   "metadata": {},
   "outputs": [],
   "source": [
    "# Creating empyty series\n",
    "d = pd.Series()"
   ]
  },
  {
   "cell_type": "code",
   "execution_count": null,
   "id": "eb096f7f",
   "metadata": {},
   "outputs": [],
   "source": [
    "d"
   ]
  },
  {
   "cell_type": "code",
   "execution_count": null,
   "id": "6331c715",
   "metadata": {},
   "outputs": [],
   "source": [
    "#Creating series with one element\n",
    "d = pd.Series(17)\n",
    "d"
   ]
  },
  {
   "cell_type": "code",
   "execution_count": null,
   "id": "0764328c",
   "metadata": {},
   "outputs": [],
   "source": [
    "#Creating series using tuple\n",
    "t=(10,11,12)\n",
    "d=pd.Series(t)\n",
    "d"
   ]
  },
  {
   "cell_type": "code",
   "execution_count": null,
   "id": "664f7b4c",
   "metadata": {},
   "outputs": [],
   "source": [
    "# Creating series using list\n",
    "d=pd.Series([2,4,5,6,7,80])\n",
    "d"
   ]
  },
  {
   "cell_type": "code",
   "execution_count": null,
   "id": "8c99f208",
   "metadata": {},
   "outputs": [],
   "source": [
    "type(d)"
   ]
  },
  {
   "cell_type": "code",
   "execution_count": null,
   "id": "a92f2799",
   "metadata": {},
   "outputs": [],
   "source": [
    "## Creating series with array\n",
    "arr=np.array([3,4,5,6])\n",
    "d=pd.Series(arr)\n",
    "d"
   ]
  },
  {
   "cell_type": "code",
   "execution_count": null,
   "id": "40f2de6a",
   "metadata": {},
   "outputs": [],
   "source": []
  },
  {
   "cell_type": "code",
   "execution_count": 2,
   "id": "dfc68768",
   "metadata": {},
   "outputs": [
    {
     "data": {
      "text/plain": [
       "a    10\n",
       "b    20\n",
       "c    30\n",
       "dtype: int64"
      ]
     },
     "execution_count": 2,
     "metadata": {},
     "output_type": "execute_result"
    }
   ],
   "source": [
    "# Creating series with dictionary\n",
    "dic1 = {'a':10,'b':20,'c':30}\n",
    "d=pd.Series(dic1)\n",
    "d"
   ]
  },
  {
   "cell_type": "code",
   "execution_count": null,
   "id": "68f4bf3c",
   "metadata": {},
   "outputs": [],
   "source": [
    "# Array with user defined indexing\n",
    "arr_2 = np.array([1,2,3])\n",
    "s_2 = pd.Series(arr_2,index=['one','two','three'])\n",
    "s_2"
   ]
  },
  {
   "cell_type": "code",
   "execution_count": null,
   "id": "4c83211b",
   "metadata": {},
   "outputs": [],
   "source": [
    "# Checing the datatype\n",
    "type(s_2)"
   ]
  },
  {
   "cell_type": "code",
   "execution_count": null,
   "id": "89daf5a7",
   "metadata": {},
   "outputs": [],
   "source": [
    "# access the data\n",
    "print(s_2['one'])\n",
    "print(d['c'])"
   ]
  },
  {
   "cell_type": "code",
   "execution_count": null,
   "id": "5ac5b0ae",
   "metadata": {},
   "outputs": [],
   "source": [
    "## Slicing Operation"
   ]
  },
  {
   "cell_type": "code",
   "execution_count": null,
   "id": "19052734",
   "metadata": {},
   "outputs": [],
   "source": [
    "d=pd.Series([1,2,3,4,5,6,7,8,10,20,21,22,23,43])"
   ]
  },
  {
   "cell_type": "code",
   "execution_count": null,
   "id": "2c0033c2",
   "metadata": {},
   "outputs": [],
   "source": [
    "d[0:9:2]"
   ]
  },
  {
   "cell_type": "code",
   "execution_count": null,
   "id": "15356365",
   "metadata": {},
   "outputs": [],
   "source": [
    "#Mulitple index\n",
    "d[[1,2,3,11]]"
   ]
  },
  {
   "cell_type": "code",
   "execution_count": null,
   "id": "fcf137af",
   "metadata": {},
   "outputs": [],
   "source": [
    "#Changing the element of the series.\n",
    "d[3]= 30\n",
    "d"
   ]
  },
  {
   "cell_type": "code",
   "execution_count": null,
   "id": "34c65f80",
   "metadata": {},
   "outputs": [],
   "source": []
  },
  {
   "cell_type": "markdown",
   "id": "9b609564",
   "metadata": {},
   "source": [
    "# DataFrame"
   ]
  },
  {
   "cell_type": "code",
   "execution_count": null,
   "id": "d930a49e",
   "metadata": {},
   "outputs": [],
   "source": [
    "#empty Dataframe\n",
    "d=pd.DataFrame()"
   ]
  },
  {
   "cell_type": "code",
   "execution_count": null,
   "id": "a112ad6a",
   "metadata": {},
   "outputs": [],
   "source": [
    "print(d)"
   ]
  },
  {
   "cell_type": "code",
   "execution_count": 3,
   "id": "f669eb81",
   "metadata": {},
   "outputs": [
    {
     "data": {
      "text/html": [
       "<div>\n",
       "<style scoped>\n",
       "    .dataframe tbody tr th:only-of-type {\n",
       "        vertical-align: middle;\n",
       "    }\n",
       "\n",
       "    .dataframe tbody tr th {\n",
       "        vertical-align: top;\n",
       "    }\n",
       "\n",
       "    .dataframe thead th {\n",
       "        text-align: right;\n",
       "    }\n",
       "</style>\n",
       "<table border=\"1\" class=\"dataframe\">\n",
       "  <thead>\n",
       "    <tr style=\"text-align: right;\">\n",
       "      <th></th>\n",
       "      <th>0</th>\n",
       "      <th>1</th>\n",
       "      <th>2</th>\n",
       "      <th>3</th>\n",
       "      <th>4</th>\n",
       "    </tr>\n",
       "  </thead>\n",
       "  <tbody>\n",
       "    <tr>\n",
       "      <th>0</th>\n",
       "      <td>1</td>\n",
       "      <td>2</td>\n",
       "      <td>3</td>\n",
       "      <td>4</td>\n",
       "      <td>NaN</td>\n",
       "    </tr>\n",
       "    <tr>\n",
       "      <th>1</th>\n",
       "      <td>11</td>\n",
       "      <td>12</td>\n",
       "      <td>13</td>\n",
       "      <td>b</td>\n",
       "      <td>14.0</td>\n",
       "    </tr>\n",
       "    <tr>\n",
       "      <th>2</th>\n",
       "      <td>10</td>\n",
       "      <td>20</td>\n",
       "      <td>30</td>\n",
       "      <td>None</td>\n",
       "      <td>NaN</td>\n",
       "    </tr>\n",
       "  </tbody>\n",
       "</table>\n",
       "</div>"
      ],
      "text/plain": [
       "    0   1   2     3     4\n",
       "0   1   2   3     4   NaN\n",
       "1  11  12  13     b  14.0\n",
       "2  10  20  30  None   NaN"
      ]
     },
     "execution_count": 3,
     "metadata": {},
     "output_type": "execute_result"
    }
   ],
   "source": [
    "## Using nested list\n",
    "data = [[1,2,3,4],[11,12,13,'b',14],[10,20,30]]\n",
    "d=pd.DataFrame(data)\n",
    "d\n",
    "#None is getting populated as the respective column ie 4,b has different data type\n",
    "#column should have same data type"
   ]
  },
  {
   "cell_type": "code",
   "execution_count": null,
   "id": "c7caa152",
   "metadata": {},
   "outputs": [],
   "source": []
  },
  {
   "cell_type": "code",
   "execution_count": null,
   "id": "4f11fbae",
   "metadata": {},
   "outputs": [],
   "source": [
    "#Changing the column\n",
    "data = [['abc',1],['def',2],['ghi',3],['hij'],['klm','a']]\n",
    "d = pd.DataFrame(data)\n",
    "d"
   ]
  },
  {
   "cell_type": "code",
   "execution_count": null,
   "id": "02d42500",
   "metadata": {},
   "outputs": [],
   "source": [
    "d = pd.DataFrame(data,columns=['A','B'])\n",
    "\n",
    "d"
   ]
  },
  {
   "cell_type": "code",
   "execution_count": null,
   "id": "571931b4",
   "metadata": {},
   "outputs": [],
   "source": [
    "#Changing the index Value\n",
    "d=pd.DataFrame(data,index=['a','b','c','d','e'])\n",
    "d"
   ]
  },
  {
   "cell_type": "code",
   "execution_count": null,
   "id": "83040255",
   "metadata": {},
   "outputs": [],
   "source": [
    "# dataframe using dictionary\n",
    "data={'name':['a','b','c','d'],'age':[10,20,30,40]}\n",
    "d=pd.DataFrame(data)\n",
    "d"
   ]
  },
  {
   "cell_type": "code",
   "execution_count": null,
   "id": "d883f04c",
   "metadata": {},
   "outputs": [],
   "source": [
    "## Task change the name of columns whiel definining the dataframe\n",
    "d.rename(columns={'name':'new_name','age':'new_age'},inplace=True)\n",
    "d\n",
    "#To make column change permanently using inplace=True\n",
    "#Inplace=False meaning it will change permanently"
   ]
  },
  {
   "cell_type": "code",
   "execution_count": null,
   "id": "e902309e",
   "metadata": {},
   "outputs": [],
   "source": [
    "## Accessing the elements from dataframe\n",
    "data=[['Alex',10,'Maths'],['Bob',12,'Science'],['kelly',15,'Eco'],['Boris',14,'Geo'],['ken',18,'Eng']]\n",
    "d=pd.DataFrame(data,columns=['name','age','subject'])\n",
    "d"
   ]
  },
  {
   "cell_type": "code",
   "execution_count": null,
   "id": "b7e669d8",
   "metadata": {},
   "outputs": [],
   "source": [
    "#Accessing single element\n",
    "d['name']"
   ]
  },
  {
   "cell_type": "code",
   "execution_count": null,
   "id": "c8cbd3b0",
   "metadata": {},
   "outputs": [],
   "source": [
    "#Accessing multiple column\n",
    "d[['name','subject']]"
   ]
  },
  {
   "cell_type": "code",
   "execution_count": null,
   "id": "2b160b1a",
   "metadata": {},
   "outputs": [],
   "source": [
    "#iloc\n",
    "#iloc function only works with indexs\n",
    "print(d.iloc[:,[0,1,2]])\n",
    "print('\\n')\n",
    "print(d.iloc[:1,[0,1,2]])\n",
    "print('\\n')\n",
    "# Access single element we use iloc\n",
    "print(d.iloc[1,2])"
   ]
  },
  {
   "cell_type": "code",
   "execution_count": null,
   "id": "023dad4e",
   "metadata": {},
   "outputs": [],
   "source": [
    "#loc\n",
    "#loc alwasy work with name of the column\n",
    "d.loc[:,['name','subject']]"
   ]
  },
  {
   "cell_type": "code",
   "execution_count": null,
   "id": "6fa29eb4",
   "metadata": {},
   "outputs": [],
   "source": [
    "# when to populate only row\n",
    "d.loc[3]"
   ]
  },
  {
   "cell_type": "code",
   "execution_count": null,
   "id": "8a58e42e",
   "metadata": {},
   "outputs": [],
   "source": [
    "d.iloc[:,1:3]"
   ]
  },
  {
   "cell_type": "code",
   "execution_count": null,
   "id": "3b29bf3a",
   "metadata": {},
   "outputs": [],
   "source": [
    "pwd"
   ]
  },
  {
   "cell_type": "code",
   "execution_count": null,
   "id": "316fbb41",
   "metadata": {},
   "outputs": [],
   "source": []
  },
  {
   "cell_type": "code",
   "execution_count": null,
   "id": "f02cd5cf",
   "metadata": {},
   "outputs": [],
   "source": []
  }
 ],
 "metadata": {
  "kernelspec": {
   "display_name": "Python 3",
   "language": "python",
   "name": "python3"
  },
  "language_info": {
   "codemirror_mode": {
    "name": "ipython",
    "version": 3
   },
   "file_extension": ".py",
   "mimetype": "text/x-python",
   "name": "python",
   "nbconvert_exporter": "python",
   "pygments_lexer": "ipython3",
   "version": "3.8.8"
  }
 },
 "nbformat": 4,
 "nbformat_minor": 5
}
