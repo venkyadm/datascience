{
 "cells": [
  {
   "cell_type": "markdown",
   "metadata": {
    "id": "mXv_DbCTEn-F"
   },
   "source": [
    "####  Q1)The most important object defined in NumPy is an N-dimensional array type called?"
   ]
  },
  {
   "cell_type": "markdown",
   "metadata": {
    "id": "_wsWdYHCEn-N"
   },
   "source": [
    "a) ndarray\n",
    "b) narray\n",
    "c) nd_array\n",
    "d) darray"
   ]
  },
  {
   "cell_type": "markdown",
   "metadata": {
    "id": "R8isBsT9En-O"
   },
   "source": [
    "#### Q2) import numpy as np \n",
    "\n",
    "a = np.array([1,2,3]) \n",
    "\n",
    "print a"
   ]
  },
  {
   "cell_type": "markdown",
   "metadata": {
    "id": "coqdGMPLEn-O"
   },
   "source": [
    "a) [[1, 2, 3]]\n",
    "b)[1]\n",
    "c) [1, 2, 3]\n",
    "d) Error\n",
    "e) array([1,2,3])"
   ]
  },
  {
   "cell_type": "markdown",
   "metadata": {
    "id": "f9SgCOpmEn-P"
   },
   "source": [
    "Q3)The ________ function returns its argument with a modified shape, whereas the ________ method modifies the array itself.\n",
    "a) reshape, resize\n",
    "b) resize, reshape\n",
    "c) reshape2, resize\n",
    "d) all of the mentioned"
   ]
  },
  {
   "cell_type": "markdown",
   "metadata": {
    "id": "t8qmLt4zEn-P"
   },
   "source": [
    "Q4)4. To create sequences of numbers, NumPy provides a function __________ analogous to range that returns arrays instead of lists.\n",
    "a) arange\n",
    "b) aspace\n",
    "c) aline\n",
    "d) all of the mentioned"
   ]
  },
  {
   "cell_type": "markdown",
   "metadata": {
    "id": "7tssAlj0En-P"
   },
   "source": [
    "Q5. Point out the correct statement.\n",
    "a) NumPy main object is the homogeneous multidimensional array\n",
    "b) In Numpy, dimensions are called axes\n",
    "c) Numpy array class is called ndarray\n",
    "d) All of the mentioned"
   ]
  },
  {
   "cell_type": "markdown",
   "metadata": {
    "id": "jwBvihzFEn-Q"
   },
   "source": [
    "Q6. Which of the following method creates a new array object that looks at the same data?\n",
    "a) view\n",
    "b) copy\n",
    "c) paste\n",
    "d) all of the mentioned"
   ]
  },
  {
   "cell_type": "markdown",
   "metadata": {
    "id": "T5jn-KhpEn-Q"
   },
   "source": [
    "Q7.Correct syntax of the reshape() function in Numpy array python is -\n",
    "a)array.reshape(shape)\n",
    "\n",
    "b)reshape(shape,array)\n",
    "\n",
    "c)reshape(array,shape)\n",
    "\n",
    "d)reshape(shape)"
   ]
  },
  {
   "cell_type": "markdown",
   "metadata": {
    "id": "DWjUPQDLEn-Q"
   },
   "source": [
    "Q8.How we can convert the Numpy array to the list in python?\n",
    "a)list(array)\n",
    "\n",
    "b)list.array\n",
    "\n",
    "c)array.list\n",
    "\n",
    "d)None of the above"
   ]
  },
  {
   "cell_type": "markdown",
   "metadata": {
    "id": "H6PgXwGeEn-R"
   },
   "source": [
    "Q9.What is the use of the size attribute in Numpy array in python ?\n",
    "a)It find the direction\n",
    "\n",
    "b)It find the number of items\n",
    "\n",
    "c)It find the shape\n",
    "\n",
    "d)All of the above"
   ]
  },
  {
   "cell_type": "markdown",
   "metadata": {
    "id": "O066MXCYEn-R"
   },
   "source": [
    "Q10what is the use of the zeros() function in Numpy array in python ?\n",
    "a)To make a Matrix with all element 0\n",
    "\n",
    "b)To make a Matrix with all diagonal element 0\n",
    "\n",
    "c)To make a Matrix with first row 0\n",
    "\n",
    "d)None of the above"
   ]
  },
  {
   "cell_type": "markdown",
   "metadata": {
    "id": "qHqNgAiYEn-R"
   },
   "source": [
    "\n",
    "Q11.Which of the following counts the number of elements in Numpy array ?\n",
    "a)count()\n",
    "\n",
    "2.return()\n",
    "\n",
    "3.shape()\n",
    "\n",
    "4.size()"
   ]
  }
 ],
 "metadata": {
  "colab": {
   "name": "Numpy_Assignment.ipynb",
   "provenance": []
  },
  "kernelspec": {
   "display_name": "Python 3",
   "language": "python",
   "name": "python3"
  },
  "language_info": {
   "codemirror_mode": {
    "name": "ipython",
    "version": 3
   },
   "file_extension": ".py",
   "mimetype": "text/x-python",
   "name": "python",
   "nbconvert_exporter": "python",
   "pygments_lexer": "ipython3",
   "version": "3.8.8"
  }
 },
 "nbformat": 4,
 "nbformat_minor": 1
}
