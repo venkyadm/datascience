{
 "cells": [
  {
   "cell_type": "markdown",
   "metadata": {
    "id": "H4F-_GlCWV2y"
   },
   "source": [
    "## Numpy-->Numerical Python\n",
    "\n",
    "NumPy is a general-purpose array-processing package. It provides a high-performance multidimensional array object, and tools for working with these arrays. It is the fundamental package for scientific computing with Python\n",
    "\n",
    "### What is an array\n",
    "\n",
    "An array is a data structure that stores values of same data type. In Python, this is the main difference between arrays and lists. While python lists can contain values corresponding to different data types, arrays in python can only contain values corresponding to same data type"
   ]
  },
  {
   "cell_type": "code",
   "execution_count": 1,
   "metadata": {
    "colab": {
     "base_uri": "https://localhost:8080/"
    },
    "executionInfo": {
     "elapsed": 3361,
     "status": "ok",
     "timestamp": 1633928696848,
     "user": {
      "displayName": "Shaheen Ck",
      "photoUrl": "https://lh3.googleusercontent.com/a-/AOh14GgGunLbCiIMl-Hpl-pI7b5D71chy_BFi0JLEC0J=s64",
      "userId": "14420517778940808535"
     },
     "user_tz": -330
    },
    "id": "bNmDZlsHWV23",
    "outputId": "a51a942c-e884-4f56-cdee-791d2cc3cd09"
   },
   "outputs": [
    {
     "name": "stdout",
     "output_type": "stream",
     "text": [
      "Requirement already satisfied: numpy in c:\\programdata\\anaconda3\\lib\\site-packages (1.20.1)\n"
     ]
    }
   ],
   "source": [
    "## installation of package\n",
    "!pip3 install numpy"
   ]
  },
  {
   "cell_type": "code",
   "execution_count": 2,
   "metadata": {
    "colab": {
     "base_uri": "https://localhost:8080/",
     "height": 200
    },
    "executionInfo": {
     "elapsed": 467,
     "status": "error",
     "timestamp": 1633928720470,
     "user": {
      "displayName": "Shaheen Ck",
      "photoUrl": "https://lh3.googleusercontent.com/a-/AOh14GgGunLbCiIMl-Hpl-pI7b5D71chy_BFi0JLEC0J=s64",
      "userId": "14420517778940808535"
     },
     "user_tz": -330
    },
    "id": "R7HYJwVzWV24",
    "outputId": "1b19be4c-4f66-4ffc-83b9-c98c6f67aad5"
   },
   "outputs": [
    {
     "ename": "NameError",
     "evalue": "name 'np' is not defined",
     "output_type": "error",
     "traceback": [
      "\u001b[1;31m---------------------------------------------------------------------------\u001b[0m",
      "\u001b[1;31mNameError\u001b[0m                                 Traceback (most recent call last)",
      "\u001b[1;32m<ipython-input-2-afeb143245ab>\u001b[0m in \u001b[0;36m<module>\u001b[1;34m\u001b[0m\n\u001b[0;32m      1\u001b[0m \u001b[1;31m## Getting version\u001b[0m\u001b[1;33m\u001b[0m\u001b[1;33m\u001b[0m\u001b[1;33m\u001b[0m\u001b[0m\n\u001b[0;32m      2\u001b[0m \u001b[1;33m\u001b[0m\u001b[0m\n\u001b[1;32m----> 3\u001b[1;33m \u001b[0mprint\u001b[0m\u001b[1;33m(\u001b[0m\u001b[0mnp\u001b[0m\u001b[1;33m.\u001b[0m\u001b[0m__version__\u001b[0m\u001b[1;33m)\u001b[0m\u001b[1;33m\u001b[0m\u001b[1;33m\u001b[0m\u001b[0m\n\u001b[0m",
      "\u001b[1;31mNameError\u001b[0m: name 'np' is not defined"
     ]
    }
   ],
   "source": [
    "## Getting version\n",
    "\n",
    "print(np.__version__)"
   ]
  },
  {
   "cell_type": "code",
   "execution_count": null,
   "metadata": {
    "executionInfo": {
     "elapsed": 1599,
     "status": "ok",
     "timestamp": 1634531119115,
     "user": {
      "displayName": "Mohammed Musthafa",
      "photoUrl": "https://lh3.googleusercontent.com/a-/AOh14GgnGqspvBFgAIONCjHrNaojxOIrPVHNPi_o9jv6=s64",
      "userId": "17392422423006605981"
     },
     "user_tz": -330
    },
    "id": "Dsa0vRJeWV25"
   },
   "outputs": [],
   "source": [
    "## initially Lets import numpy\n",
    "\n",
    "import numpy as np"
   ]
  },
  {
   "cell_type": "code",
   "execution_count": null,
   "metadata": {
    "colab": {
     "base_uri": "https://localhost:8080/",
     "height": 178
    },
    "executionInfo": {
     "elapsed": 15,
     "status": "error",
     "timestamp": 1634531122217,
     "user": {
      "displayName": "Mohammed Musthafa",
      "photoUrl": "https://lh3.googleusercontent.com/a-/AOh14GgnGqspvBFgAIONCjHrNaojxOIrPVHNPi_o9jv6=s64",
      "userId": "17392422423006605981"
     },
     "user_tz": -330
    },
    "id": "soM9KJ6WtoKM",
    "outputId": "03068940-3285-4aba-8667-f659f3757194"
   },
   "outputs": [],
   "source": [
    "arr=array(2) ## array function is present in numpy package so \n",
    "## we need to call numpy everytime"
   ]
  },
  {
   "cell_type": "code",
   "execution_count": null,
   "metadata": {
    "colab": {
     "base_uri": "https://localhost:8080/"
    },
    "executionInfo": {
     "elapsed": 407,
     "status": "ok",
     "timestamp": 1634531144477,
     "user": {
      "displayName": "Mohammed Musthafa",
      "photoUrl": "https://lh3.googleusercontent.com/a-/AOh14GgnGqspvBFgAIONCjHrNaojxOIrPVHNPi_o9jv6=s64",
      "userId": "17392422423006605981"
     },
     "user_tz": -330
    },
    "id": "gMsB_cEBWV25",
    "outputId": "c7c50eb4-7772-4cf9-b5c4-d880f7a0744b"
   },
   "outputs": [],
   "source": [
    "## Array creation with 0 dim\n",
    "arr=np.array(1) ## array with Zero dimension -->point\n",
    "arr"
   ]
  },
  {
   "cell_type": "code",
   "execution_count": null,
   "metadata": {
    "colab": {
     "base_uri": "https://localhost:8080/"
    },
    "executionInfo": {
     "elapsed": 433,
     "status": "ok",
     "timestamp": 1634531165217,
     "user": {
      "displayName": "Mohammed Musthafa",
      "photoUrl": "https://lh3.googleusercontent.com/a-/AOh14GgnGqspvBFgAIONCjHrNaojxOIrPVHNPi_o9jv6=s64",
      "userId": "17392422423006605981"
     },
     "user_tz": -330
    },
    "id": "ht1-Bh67WV26",
    "outputId": "9e9c1a6c-1680-4424-d018-19e139b2db00"
   },
   "outputs": [],
   "source": [
    "a=[1,2,3,4,5]\n",
    "\n",
    "arr=np.array(a)\n",
    "arr\n",
    "## number of brackets determine the dimension of array"
   ]
  },
  {
   "cell_type": "code",
   "execution_count": null,
   "metadata": {
    "colab": {
     "base_uri": "https://localhost:8080/"
    },
    "executionInfo": {
     "elapsed": 618,
     "status": "ok",
     "timestamp": 1634531232643,
     "user": {
      "displayName": "Mohammed Musthafa",
      "photoUrl": "https://lh3.googleusercontent.com/a-/AOh14GgnGqspvBFgAIONCjHrNaojxOIrPVHNPi_o9jv6=s64",
      "userId": "17392422423006605981"
     },
     "user_tz": -330
    },
    "id": "k5GD8VOGWV26",
    "outputId": "33127c3f-3402-43c2-fcd3-0751523520f5"
   },
   "outputs": [],
   "source": [
    "## Array summary\n",
    "print(\"The dimension\",arr.ndim)\n",
    "print(\"The size\",arr.size)\n",
    "print(\"The datatype\",arr.dtype)\n",
    "print(\"The type\",type(arr))\n",
    "print(\"Shape\",arr.shape)"
   ]
  },
  {
   "cell_type": "code",
   "execution_count": null,
   "metadata": {
    "colab": {
     "base_uri": "https://localhost:8080/"
    },
    "executionInfo": {
     "elapsed": 408,
     "status": "ok",
     "timestamp": 1634531189351,
     "user": {
      "displayName": "Mohammed Musthafa",
      "photoUrl": "https://lh3.googleusercontent.com/a-/AOh14GgnGqspvBFgAIONCjHrNaojxOIrPVHNPi_o9jv6=s64",
      "userId": "17392422423006605981"
     },
     "user_tz": -330
    },
    "id": "8vqjiUMQWV27",
    "outputId": "c38133cc-a3ff-4122-c727-088f5a9a0742"
   },
   "outputs": [],
   "source": [
    "#CREAte 2D array\n",
    "d2 = np.array([[1,2,3],[3,4,7]])\n",
    "d2"
   ]
  },
  {
   "cell_type": "code",
   "execution_count": null,
   "metadata": {
    "colab": {
     "base_uri": "https://localhost:8080/"
    },
    "executionInfo": {
     "elapsed": 433,
     "status": "ok",
     "timestamp": 1634531193903,
     "user": {
      "displayName": "Mohammed Musthafa",
      "photoUrl": "https://lh3.googleusercontent.com/a-/AOh14GgnGqspvBFgAIONCjHrNaojxOIrPVHNPi_o9jv6=s64",
      "userId": "17392422423006605981"
     },
     "user_tz": -330
    },
    "id": "0X_nrKdYWV28",
    "outputId": "530a57a2-c9c3-4587-a05e-f1b686770bba"
   },
   "outputs": [],
   "source": [
    "#Array summary\n",
    "print(\"The dimension\",d2.ndim)\n",
    "print(\"The size\",d2.size)\n",
    "print(\"The datatype\",d2.dtype)\n",
    "print(\"The type\",type(d2))\n",
    "print(\"The shape is\",d2.shape)"
   ]
  },
  {
   "cell_type": "code",
   "execution_count": null,
   "metadata": {
    "id": "tARYjUraWV28"
   },
   "outputs": [],
   "source": [
    "## Multinested array\n",
    "my_lst1=[1,2,3,4,5]\n",
    "my_lst2=[2,3,4,5,6]\n",
    "my_lst3=[9,7,6,8,9]\n",
    "\n",
    "arr1=np.array([my_lst1,my_lst2,my_lst3])"
   ]
  },
  {
   "cell_type": "code",
   "execution_count": null,
   "metadata": {
    "id": "sTOlmEy9WV29"
   },
   "outputs": [],
   "source": [
    "arr1"
   ]
  },
  {
   "cell_type": "code",
   "execution_count": null,
   "metadata": {
    "id": "sXHuk8uQtoKW"
   },
   "outputs": [],
   "source": [
    "b=np.array([1,2,3,4,5],[2,3,4,5,6])"
   ]
  },
  {
   "cell_type": "code",
   "execution_count": null,
   "metadata": {
    "id": "LZiXNOQGtoKX"
   },
   "outputs": [],
   "source": [
    "a=np.array([[[[1,2,3],[5,6,7]]]])"
   ]
  },
  {
   "cell_type": "code",
   "execution_count": null,
   "metadata": {
    "id": "wfphd74ttoKX"
   },
   "outputs": [],
   "source": [
    "a.shape"
   ]
  },
  {
   "cell_type": "markdown",
   "metadata": {
    "id": "V5ihelLqWV29"
   },
   "source": [
    "## Methods\n",
    "* arange->similar to range\n",
    "* linspace\n",
    "* ravel\n",
    "* random"
   ]
  },
  {
   "cell_type": "code",
   "execution_count": null,
   "metadata": {
    "id": "zNtpNTOYWV29"
   },
   "outputs": [],
   "source": [
    "np.arange(5) #stop"
   ]
  },
  {
   "cell_type": "code",
   "execution_count": null,
   "metadata": {
    "id": "4yvmVR5AWV2-"
   },
   "outputs": [],
   "source": [
    "np.arange(1,5) # start,stop"
   ]
  },
  {
   "cell_type": "code",
   "execution_count": null,
   "metadata": {
    "id": "HbYIoLpjWV2-"
   },
   "outputs": [],
   "source": [
    "np.arange(1,10,2) #start,stop,step"
   ]
  },
  {
   "cell_type": "code",
   "execution_count": null,
   "metadata": {
    "id": "r5tTE0MIWV2-"
   },
   "outputs": [],
   "source": [
    "np.arange(50,100,5)"
   ]
  },
  {
   "cell_type": "code",
   "execution_count": null,
   "metadata": {
    "id": "iXjgbGdDWV2-"
   },
   "outputs": [],
   "source": [
    "np.arange(50,100,5).reshape(10,1)  ##5 rows and 2 columns"
   ]
  },
  {
   "cell_type": "code",
   "execution_count": null,
   "metadata": {
    "id": "syMuH_D8WV2-"
   },
   "outputs": [],
   "source": [
    "np.arange(50,100,5).reshape(5,2)"
   ]
  },
  {
   "cell_type": "code",
   "execution_count": null,
   "metadata": {
    "id": "pOgWE6IlWV2_"
   },
   "outputs": [],
   "source": [
    "np.arange(50,100,5).reshape(5,1,2) ## reshaping to 3rd dimension"
   ]
  },
  {
   "cell_type": "code",
   "execution_count": null,
   "metadata": {
    "id": "2dNNn6CTtoKb"
   },
   "outputs": [],
   "source": [
    "(1,1,2,5)"
   ]
  },
  {
   "cell_type": "code",
   "execution_count": null,
   "metadata": {
    "id": "LAt-3KxoWV2_"
   },
   "outputs": [],
   "source": [
    "np.arange(50,100,5).reshape(1,1,2,5) ## reshaping to 4 the dimension"
   ]
  },
  {
   "cell_type": "code",
   "execution_count": null,
   "metadata": {
    "id": "5i5Vo3rSWV2_"
   },
   "outputs": [],
   "source": [
    "np.arange(1,17).reshape(3,5)"
   ]
  },
  {
   "cell_type": "code",
   "execution_count": null,
   "metadata": {
    "id": "jo34e4cCWV2_"
   },
   "outputs": [],
   "source": [
    "#linspace ->start,stop,no.of elements->(stop-Included)\n",
    "np.linspace(1,50,100)"
   ]
  },
  {
   "cell_type": "code",
   "execution_count": null,
   "metadata": {
    "id": "VqbLPBeWWV2_"
   },
   "outputs": [],
   "source": [
    "np.linspace(1,50,90,retstep=True)"
   ]
  },
  {
   "cell_type": "code",
   "execution_count": null,
   "metadata": {
    "id": "gOY0Er4TWV3A"
   },
   "outputs": [],
   "source": [
    "D3 = np.array([[[1,2,3],[4,5,6],[1,2,5]],[[7,8,9],[1,2,4],[7,8,9]]])\n",
    "D3"
   ]
  },
  {
   "cell_type": "code",
   "execution_count": null,
   "metadata": {
    "colab": {
     "base_uri": "https://localhost:8080/"
    },
    "executionInfo": {
     "elapsed": 1071,
     "status": "ok",
     "timestamp": 1634014120203,
     "user": {
      "displayName": "Shaheen Ck",
      "photoUrl": "https://lh3.googleusercontent.com/a-/AOh14GgGunLbCiIMl-Hpl-pI7b5D71chy_BFi0JLEC0J=s64",
      "userId": "14420517778940808535"
     },
     "user_tz": -330
    },
    "id": "VwH3Dc-dWV3A",
    "outputId": "e02c7ec8-4ea7-4578-dbc8-48d19e0ff304"
   },
   "outputs": [],
   "source": [
    "#ravel converts array of any dim to a single (1D )\n",
    "import numpy as np\n",
    "a2 = np.arange(50).reshape(5,5,2)\n",
    "a2"
   ]
  },
  {
   "cell_type": "code",
   "execution_count": null,
   "metadata": {
    "colab": {
     "base_uri": "https://localhost:8080/",
     "height": 162
    },
    "executionInfo": {
     "elapsed": 501,
     "status": "error",
     "timestamp": 1633960297525,
     "user": {
      "displayName": "J Poornachandrika",
      "photoUrl": "https://lh3.googleusercontent.com/a-/AOh14GgmqZCKGKb_UprLD-LXy7ZfaqovNAkdAqkSv-TK=s64",
      "userId": "14659503513616218942"
     },
     "user_tz": -330
    },
    "id": "95f93iFYtoKd",
    "outputId": "b7a4a988-b2a5-41cd-bde0-0d1d578ae745"
   },
   "outputs": [],
   "source": [
    "a2.ravel() ## convert higher dimensions to 1d always."
   ]
  },
  {
   "cell_type": "markdown",
   "metadata": {
    "id": "9-a0p1Q9WV3A"
   },
   "source": [
    "### Indexing "
   ]
  },
  {
   "cell_type": "code",
   "execution_count": null,
   "metadata": {
    "id": "fO1rqnp6WV3A"
   },
   "outputs": [],
   "source": [
    "## Accessing the array elements\n",
    "\n",
    "arr=np.array([1,2,3,4,5,6,7])"
   ]
  },
  {
   "cell_type": "code",
   "execution_count": null,
   "metadata": {
    "id": "XyVEOwBNlH6D"
   },
   "outputs": [],
   "source": [
    "arr"
   ]
  },
  {
   "cell_type": "code",
   "execution_count": null,
   "metadata": {
    "id": "nb7F3LFNWV3A",
    "scrolled": true
   },
   "outputs": [],
   "source": [
    "arr[3]"
   ]
  },
  {
   "cell_type": "code",
   "execution_count": null,
   "metadata": {
    "id": "dnQMOMivtoKg"
   },
   "outputs": [],
   "source": [
    "my_lst1=[1,2,3,4,5]\n",
    "my_lst2=[2,3,4,5,6]\n",
    "my_lst3=[9,7,6,8,9]\n",
    "\n",
    "arr1=np.array([my_lst1,my_lst2,my_lst3])"
   ]
  },
  {
   "cell_type": "code",
   "execution_count": null,
   "metadata": {
    "id": "foPEEilxtoKh",
    "outputId": "702ab47d-443c-46c3-f1ae-92c3818e818b"
   },
   "outputs": [],
   "source": [
    "arr1"
   ]
  },
  {
   "cell_type": "code",
   "execution_count": null,
   "metadata": {
    "id": "3JZhkV_QtoKj",
    "outputId": "b4db3f7f-2b34-4950-a1b3-694b70599288"
   },
   "outputs": [],
   "source": [
    "arr1[2] ## element wise indexing in 2 dimension"
   ]
  },
  {
   "cell_type": "code",
   "execution_count": null,
   "metadata": {
    "id": "HriQlNebtoKk",
    "outputId": "13411ce7-7918-441e-a84e-2fb70ec03613"
   },
   "outputs": [],
   "source": [
    "arr1[0,1] ## getting elements columns and rows"
   ]
  },
  {
   "cell_type": "code",
   "execution_count": null,
   "metadata": {
    "id": "qeFTipb5toKl",
    "outputId": "5a2327ad-4a89-48fa-d847-47e343a7586c"
   },
   "outputs": [],
   "source": [
    "arr1[:,0:2] ## columns,rows"
   ]
  },
  {
   "cell_type": "code",
   "execution_count": null,
   "metadata": {
    "id": "f5MBcAS1WV3B",
    "outputId": "4f9332c7-5e12-4313-85f7-644ad99b840b"
   },
   "outputs": [],
   "source": [
    "arr1[:,3:]"
   ]
  },
  {
   "cell_type": "code",
   "execution_count": null,
   "metadata": {
    "id": "mgMqh1PlWV3B"
   },
   "outputs": [],
   "source": [
    "## Copy operation"
   ]
  },
  {
   "cell_type": "code",
   "execution_count": null,
   "metadata": {
    "id": "fPIuUrZXWV3B"
   },
   "outputs": [],
   "source": [
    "arr=np.array([1,2,3,4,5,6])\n",
    "arr"
   ]
  },
  {
   "cell_type": "code",
   "execution_count": null,
   "metadata": {
    "id": "rDysVOHSWV3B"
   },
   "outputs": [],
   "source": [
    "arr[3:]=100"
   ]
  },
  {
   "cell_type": "code",
   "execution_count": null,
   "metadata": {
    "id": "yr1WcgkhWV3C"
   },
   "outputs": [],
   "source": [
    "arr"
   ]
  },
  {
   "cell_type": "code",
   "execution_count": null,
   "metadata": {
    "id": "0e4co8fhtoKq"
   },
   "outputs": [],
   "source": [
    "ar1=arr ## assigning values of arr to ar1"
   ]
  },
  {
   "cell_type": "code",
   "execution_count": null,
   "metadata": {
    "id": "LJkAe4a-toKq"
   },
   "outputs": [],
   "source": [
    "ar1"
   ]
  },
  {
   "cell_type": "code",
   "execution_count": null,
   "metadata": {
    "id": "WNrwS4eDtoKq"
   },
   "outputs": [],
   "source": [
    "ar1[5]=500"
   ]
  },
  {
   "cell_type": "code",
   "execution_count": null,
   "metadata": {
    "id": "COg-JUNDtoKq"
   },
   "outputs": [],
   "source": [
    "ar1"
   ]
  },
  {
   "cell_type": "code",
   "execution_count": null,
   "metadata": {
    "id": "6aNKKV8itoKr"
   },
   "outputs": [],
   "source": [
    "arr ## original array is getting changed"
   ]
  },
  {
   "cell_type": "code",
   "execution_count": null,
   "metadata": {
    "id": "BNsXwOn5toKr"
   },
   "outputs": [],
   "source": [
    "ar2=arr.copy()"
   ]
  },
  {
   "cell_type": "code",
   "execution_count": null,
   "metadata": {
    "id": "4N8ya72ltoKr",
    "scrolled": true
   },
   "outputs": [],
   "source": [
    "ar2"
   ]
  },
  {
   "cell_type": "code",
   "execution_count": null,
   "metadata": {
    "id": "2EwzvYrXtoKr"
   },
   "outputs": [],
   "source": [
    "ar2[4]=30000"
   ]
  },
  {
   "cell_type": "code",
   "execution_count": null,
   "metadata": {
    "id": "ZG4HDNf5toKs"
   },
   "outputs": [],
   "source": [
    "ar2"
   ]
  },
  {
   "cell_type": "code",
   "execution_count": null,
   "metadata": {
    "id": "Mio2_Ig0toKs"
   },
   "outputs": [],
   "source": [
    "arr"
   ]
  },
  {
   "cell_type": "code",
   "execution_count": null,
   "metadata": {
    "id": "RnW5k-V2WV3C",
    "scrolled": true
   },
   "outputs": [],
   "source": [
    "### Some conditions very useful in Exploratory Data Analysis \n",
    "\n",
    "\n",
    "\n",
    "arr[arr<3]"
   ]
  },
  {
   "cell_type": "code",
   "execution_count": null,
   "metadata": {
    "id": "pzWsjCTItoKt"
   },
   "outputs": [],
   "source": [
    "## Broadcasting in arrays\n",
    "a1=np.array([1,2,3])\n",
    "a2=np.array([4,5,6])"
   ]
  },
  {
   "cell_type": "code",
   "execution_count": null,
   "metadata": {
    "id": "wi8bQ0JutoKt"
   },
   "outputs": [],
   "source": [
    "a1"
   ]
  },
  {
   "cell_type": "code",
   "execution_count": null,
   "metadata": {
    "id": "wgO-8hwCtoKt"
   },
   "outputs": [],
   "source": [
    "a2"
   ]
  },
  {
   "cell_type": "code",
   "execution_count": null,
   "metadata": {
    "id": "oXgWtj44toKu"
   },
   "outputs": [],
   "source": [
    "a1+a2 ## element wise addition"
   ]
  },
  {
   "cell_type": "code",
   "execution_count": null,
   "metadata": {
    "id": "5p4wzkDGtoKu"
   },
   "outputs": [],
   "source": [
    "a1-a2"
   ]
  },
  {
   "cell_type": "code",
   "execution_count": null,
   "metadata": {
    "id": "IW1Rr2NktoKv"
   },
   "outputs": [],
   "source": [
    "## elementwise operation is called broadcasting in array"
   ]
  },
  {
   "cell_type": "code",
   "execution_count": null,
   "metadata": {
    "id": "KpeVoT1jWV3C"
   },
   "outputs": [],
   "source": [
    "a1*a2"
   ]
  },
  {
   "cell_type": "code",
   "execution_count": null,
   "metadata": {
    "id": "dlubxNT-WV3C"
   },
   "outputs": [],
   "source": [
    "np.ones((2,5),dtype=int)"
   ]
  },
  {
   "cell_type": "code",
   "execution_count": null,
   "metadata": {
    "id": "NMIK88btWV3C"
   },
   "outputs": [],
   "source": [
    "np.zeros(2)"
   ]
  },
  {
   "cell_type": "code",
   "execution_count": null,
   "metadata": {
    "id": "8QSJWvzLWV3C"
   },
   "outputs": [],
   "source": [
    "## search operation\n",
    "arr=np.array([1,2,1010,4,8,18,7])\n",
    "np.where(arr==7) "
   ]
  },
  {
   "cell_type": "code",
   "execution_count": null,
   "metadata": {
    "id": "QBvUXX4dtvts"
   },
   "outputs": [],
   "source": []
  },
  {
   "cell_type": "code",
   "execution_count": null,
   "metadata": {
    "id": "sTFK0yC9tvp3"
   },
   "outputs": [],
   "source": []
  },
  {
   "cell_type": "code",
   "execution_count": null,
   "metadata": {
    "id": "seeaKFPfWV3C"
   },
   "outputs": [],
   "source": [
    "## random distribution\n",
    "np.random.rand(3,3)"
   ]
  },
  {
   "cell_type": "code",
   "execution_count": null,
   "metadata": {
    "id": "9BlSZOeiWV3D"
   },
   "outputs": [],
   "source": [
    "arr_ex=np.random.randn(4,4)"
   ]
  },
  {
   "cell_type": "code",
   "execution_count": null,
   "metadata": {
    "id": "UGkyiryxWV3D"
   },
   "outputs": [],
   "source": [
    "arr_ex"
   ]
  },
  {
   "cell_type": "code",
   "execution_count": null,
   "metadata": {
    "id": "-wHuuOQIWV3D"
   },
   "outputs": [],
   "source": [
    "np.random.randint(0,100,8).reshape(4,2)"
   ]
  },
  {
   "cell_type": "code",
   "execution_count": null,
   "metadata": {
    "id": "DDo7V-anWV3D"
   },
   "outputs": [],
   "source": [
    "## Converting degrees into radians\n",
    "### creating simple array and reshaping.\n",
    "d = np.arange(0,120,30).reshape(2,2)  # array to apply sin cos\n",
    "print(\"d array with angles in degrees\")\n",
    "print(d)"
   ]
  },
  {
   "cell_type": "code",
   "execution_count": null,
   "metadata": {
    "id": "lsWpx22AWV3D"
   },
   "outputs": [],
   "source": [
    "d_rad = d*np.pi/180 # converted angles to radians\n",
    "print(\"d array with angles in radians\")\n",
    "print(d_rad)"
   ]
  },
  {
   "cell_type": "code",
   "execution_count": null,
   "metadata": {
    "id": "3wUyu_nKWV3D"
   },
   "outputs": [],
   "source": [
    "print(\"Sin values of angles 0,30,60,90\")\n",
    "print(np.tan(d_rad))"
   ]
  },
  {
   "cell_type": "code",
   "execution_count": null,
   "metadata": {
    "id": "XMxRWqKsWV3D"
   },
   "outputs": [],
   "source": [
    "https://numpy.org/devdocs/user/absolute_beginners.html"
   ]
  }
 ],
 "metadata": {
  "colab": {
   "collapsed_sections": [
    "9-a0p1Q9WV3A"
   ],
   "name": "Numpy.ipynb",
   "provenance": []
  },
  "kernelspec": {
   "display_name": "Python 3",
   "language": "python",
   "name": "python3"
  },
  "language_info": {
   "codemirror_mode": {
    "name": "ipython",
    "version": 3
   },
   "file_extension": ".py",
   "mimetype": "text/x-python",
   "name": "python",
   "nbconvert_exporter": "python",
   "pygments_lexer": "ipython3",
   "version": "3.8.8"
  }
 },
 "nbformat": 4,
 "nbformat_minor": 1
}
