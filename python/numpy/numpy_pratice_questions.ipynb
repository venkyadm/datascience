{
 "cells": [
  {
   "cell_type": "markdown",
   "id": "57362fc9",
   "metadata": {},
   "source": [
    "1.What is Numpy?\n",
    "Ans: NumPy is a general-purpose array-processing package. It provides a high-performance multidimensional array object, and tools for working with these arrays. It is the fundamental package for scientific computing with Python. … A powerful N-dimensional array object. Sophisticated (broadcasting) functions."
   ]
  },
  {
   "cell_type": "markdown",
   "id": "41961e1f",
   "metadata": {},
   "source": [
    "2. Why NumPy is used in Python?\n",
    "Ans: NumPy is a package in Python used for Scientific Computing. NumPy package is used to perform different operations. The ndarray (NumPy Array) is a multidimensional array used to store values of same datatype. These arrays are indexed just like Sequences, starts with zero."
   ]
  },
  {
   "cell_type": "code",
   "execution_count": null,
   "id": "e5fe172f",
   "metadata": {},
   "outputs": [],
   "source": [
    "3.How to Install Numpy in Windows? \n",
    "Ans: \n",
    "Step 1: Download Python for Windows 10/8/7. First, download the Python executable binaries on your Windows system from the official download the page of the Python. …\n",
    "Step 2: Run the Python executable installer. …\n",
    "Step 3: Install pip on Windows 10/8/7. …\n",
    "Step 4: Install Numpy in Python using pip on Windows 10/8/7.\n",
    " \n",
    "Installation Process of Numpy..\n",
    "step1: Open the terminal\n",
    "step2: type pip install numpy"
   ]
  },
  {
   "cell_type": "markdown",
   "id": "94292dcd",
   "metadata": {},
   "source": [
    "4. how to create 1D Array ?\n",
    "Ans:\n",
    "num=[1,2,3]\n",
    "num = np.array(num)\n",
    "print(“1d array : “,num)"
   ]
  },
  {
   "cell_type": "code",
   "execution_count": null,
   "id": "53951a42",
   "metadata": {},
   "outputs": [],
   "source": [
    "5. how to create 2D Array ?\n",
    "Ans:\n",
    "num2=[[1,2,3],[4,5,6]]\n",
    "num2 = np.array(num2)\n",
    "print(“\\n2d array : “,num2)"
   ]
  },
  {
   "cell_type": "code",
   "execution_count": null,
   "id": "7e185972",
   "metadata": {},
   "outputs": [],
   "source": [
    "6. how to create 3D Array or ND Array ?\n",
    "Ans:\n",
    "num3=[[[1,2,3],[4,5,6],[7,8,9]]]\n",
    "num3 = np.array(num3)\n",
    "print(“\\n3d array : “,num3)"
   ]
  },
  {
   "cell_type": "code",
   "execution_count": null,
   "id": "bb3126c2",
   "metadata": {},
   "outputs": [],
   "source": [
    "7. how to identified datatyp for numpy array?\n",
    "Ans: \n",
    "print(‘\\n data type num 3 ‘,num3.dtype)"
   ]
  },
  {
   "cell_type": "code",
   "execution_count": null,
   "id": "aa6172a8",
   "metadata": {},
   "outputs": [],
   "source": [
    "8. Print 5 zeros ?\n",
    "Ans: arr = np.zeros(5)\n",
    "print(‘single arrya’,arr)"
   ]
  },
  {
   "cell_type": "markdown",
   "id": "5dca8dee",
   "metadata": {},
   "source": [
    "9. print zeros with 2 rows and 3 columns ?\n",
    "Ans: arr2 = np.zeros((2,3))\n",
    "print(‘\\nprint 2 rows and 3 cols : ‘,arr2)"
   ]
  },
  {
   "cell_type": "markdown",
   "id": "0795fb8e",
   "metadata": {},
   "source": [
    "10. use of eye() diagonal values ?\n",
    "Ans: arr3 = np.eye(4)\n",
    "print(‘\\ndiaglonal values : ‘,arr3)"
   ]
  },
  {
   "cell_type": "markdown",
   "id": "aa996e96",
   "metadata": {},
   "source": [
    "11. use of diag() square matrix ?\n",
    "Ans:\n",
    "arr3 = np.diag([1,2,3,4])\n",
    "print(‘\\n square matrix’,arr3)"
   ]
  },
  {
   "cell_type": "markdown",
   "id": "0ade5ae0",
   "metadata": {},
   "source": [
    "12. Print Range Between 1 To 15 and show 4 integers random numbers\n",
    "Ans: rand_arr = np.random.randint(1,15,4)\n",
    "print(‘\\n random number from 1 to 15 ‘,rand_arr)"
   ]
  },
  {
   "cell_type": "markdown",
   "id": "a6381268",
   "metadata": {},
   "source": [
    "13. describe the example of seed() function? and how to use it ? why seed()?\n",
    "Ans: np.random.seed(123)\n",
    "rand_arr4 = np.random.randint(1,100,20)\n",
    "print(‘\\nseed() showing same number only : ‘,rand_arr4)"
   ]
  },
  {
   "cell_type": "markdown",
   "id": "08efa6e6",
   "metadata": {},
   "source": [
    "14. Print first position, last position and 2nd and 3rd position\n",
    "Ans: num = np.array([5,15,25,35])\n",
    "print(‘\\n first position : ‘,num[0]) #5\n",
    "print(‘\\n third position : ‘,num[2]) #25"
   ]
  },
  {
   "cell_type": "markdown",
   "id": "4b66410e",
   "metadata": {},
   "source": [
    "15.  if we don’t know last number of position how to show it by pragmatically ?\n",
    "Ans: num = np.array([5,15,25,35])\n",
    "print(‘\\n last indexing done by -1 position : ‘,num[-1])"
   ]
  },
  {
   "cell_type": "markdown",
   "id": "d4e0d4cb",
   "metadata": {},
   "source": [
    "16. create a matrix 3 * 3 with value ranging from 0 to 8\n",
    "Ans: arr = np.arange(0,9).reshape(3,3)\n",
    "print(arr)\n"
   ]
  },
  {
   "cell_type": "markdown",
   "id": "d1d8e2ba",
   "metadata": {},
   "source": [
    "17. create matrix 2 * 2 with value ranging from 1 to 3\n",
    "Ans: arr = np.arange(0,4).reshape(2,2)\n",
    "print(arr)\n",
    "\n"
   ]
  },
  {
   "cell_type": "markdown",
   "id": "1e9dc294",
   "metadata": {},
   "source": [
    "18.create matrix 2 * 2 with value ranging from 1 to 4\n",
    "Ans: arr = np.arange(1,5).reshape(2,2)\n",
    "print(arr)\n"
   ]
  },
  {
   "cell_type": "markdown",
   "id": "827d38e7",
   "metadata": {},
   "source": [
    "19. print random number from 0 to 1\n",
    "Ans: print(‘\\n random number from 0 to 1 ‘,np.random.rand())"
   ]
  },
  {
   "cell_type": "markdown",
   "id": "01167322",
   "metadata": {},
   "source": [
    "20.  print size of numarray\n",
    "Ans: print(‘\\n size \\n’,num.size) #100"
   ]
  },
  {
   "cell_type": "markdown",
   "id": "50d2137a",
   "metadata": {},
   "source": [
    "21. create an array of 20 linearly spaced point between 0 to 1\n",
    "Ans: num_line = np.linspace(0,1,20)\n",
    "print(num_line)"
   ]
  },
  {
   "cell_type": "markdown",
   "id": "eed7fd29",
   "metadata": {},
   "source": [
    "22. what is the use sort() function ?\n",
    "Ans: num_arr = np.array([[5,6,2],[9,8,1]])\n",
    "print(‘\\n sorting of numpy array : \\n’,np.sort(num_arr))"
   ]
  },
  {
   "cell_type": "markdown",
   "id": "727dd10e",
   "metadata": {},
   "source": [
    "23. How to get the positions where elements of two arrays match?\n",
    "a = np.array([1,2,3,2,3,4,3,4,5,6])\n",
    "b = np.array([7,2,10,2,7,4,9,4,9,8])\n",
    "\n",
    "np.where(a == b)"
   ]
  },
  {
   "cell_type": "markdown",
   "id": "1db1fddd",
   "metadata": {},
   "source": [
    "24. Create a Numpy array filled with all zeros \n",
    "a = np.zeros(3, dtype = int) \n",
    "print(\"Matrix a : \\n\", a) \n",
    "  \n",
    "b = np.zeros([3, 3], dtype = int) \n",
    "print(\"\\nMatrix b : \\n\", b) "
   ]
  },
  {
   "cell_type": "markdown",
   "id": "92e704d4",
   "metadata": {},
   "source": [
    "25. Check whether a Numpy array contains a specified row\n",
    "\n",
    "arr = np.array([[1, 2, 3, 4, 5],\n",
    "                   [6, 7, 8, 9, 10],\n",
    "                   [11, 12, 13, 14, 15],\n",
    "                   [16, 17, 18, 19, 20]\n",
    "                   ])\n",
    "  \n",
    "## view array\n",
    "print(arr)\n",
    "  \n",
    "## check for some lists\n",
    "print([1, 2, 3, 4, 5] in arr.tolist())\n",
    "print([16, 17, 20, 19, 18] in arr.tolist())\n",
    "print([3, 2, 5, -4, 5] in arr.tolist())\n",
    "print([11, 12, 13, 14, 15] in arr.tolist())"
   ]
  },
  {
   "cell_type": "markdown",
   "id": "681c34c2",
   "metadata": {},
   "source": [
    "26. Find the number of occurrences of a sequence in a NumPy array\n",
    "\n",
    "rr = numpy.array([[2, 8, 9, 4], \n",
    "                   [9, 4, 9, 4],\n",
    "                   [4, 5, 9, 7],\n",
    "                   [2, 9, 4, 3]])\n",
    "  \n",
    "\n",
    "output = repr(arr).count(\"9, 4\")\n",
    "\n",
    "print(output)"
   ]
  },
  {
   "cell_type": "code",
   "execution_count": null,
   "id": "13a5a860",
   "metadata": {},
   "outputs": [],
   "source": []
  }
 ],
 "metadata": {
  "kernelspec": {
   "display_name": "Python 3",
   "language": "python",
   "name": "python3"
  },
  "language_info": {
   "codemirror_mode": {
    "name": "ipython",
    "version": 3
   },
   "file_extension": ".py",
   "mimetype": "text/x-python",
   "name": "python",
   "nbconvert_exporter": "python",
   "pygments_lexer": "ipython3",
   "version": "3.8.8"
  }
 },
 "nbformat": 4,
 "nbformat_minor": 5
}
