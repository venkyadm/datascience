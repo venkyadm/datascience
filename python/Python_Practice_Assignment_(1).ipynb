{
 "cells": [
  {
   "cell_type": "code",
   "execution_count": null,
   "metadata": {
    "colab": {
     "base_uri": "https://localhost:8080/",
     "height": 128
    },
    "executionInfo": {
     "elapsed": 609,
     "status": "error",
     "timestamp": 1633760133696,
     "user": {
      "displayName": "Mohammed Musthafa",
      "photoUrl": "https://lh3.googleusercontent.com/a-/AOh14GgnGqspvBFgAIONCjHrNaojxOIrPVHNPi_o9jv6=s64",
      "userId": "17392422423006605981"
     },
     "user_tz": -330
    },
    "id": "1vyXG_CWH81P",
    "outputId": "3ab994da-3771-4dbd-e325-94113c0e182a"
   },
   "outputs": [],
   "source": [
    "1)Write a Python program to get the Python version you are using"
   ]
  },
  {
   "cell_type": "code",
   "execution_count": null,
   "metadata": {
    "id": "Y8qdUlF1aegk"
   },
   "outputs": [],
   "source": [
    "import sys\n",
    "\n",
    "def python_version():\n",
    "    print(\"Python Version => \",sys.version)\n",
    "    print(\"Python version information => \",sys.version_info)\n",
    "python_version()\n"
   ]
  },
  {
   "cell_type": "code",
   "execution_count": null,
   "metadata": {
    "colab": {
     "base_uri": "https://localhost:8080/",
     "height": 128
    },
    "executionInfo": {
     "elapsed": 852,
     "status": "error",
     "timestamp": 1633589337324,
     "user": {
      "displayName": "Mohammed Musthafa",
      "photoUrl": "https://lh3.googleusercontent.com/a-/AOh14GgnGqspvBFgAIONCjHrNaojxOIrPVHNPi_o9jv6=s64",
      "userId": "17392422423006605981"
     },
     "user_tz": -330
    },
    "id": "4mJdAmWhH81T",
    "outputId": "4592a81d-3554-47ea-aafd-74c246474fd3"
   },
   "outputs": [],
   "source": [
    "2)Write a Python program to display the current date and time"
   ]
  },
  {
   "cell_type": "code",
   "execution_count": null,
   "metadata": {},
   "outputs": [],
   "source": [
    "from datetime import datetime\n",
    "def current_time():\n",
    "    print(\"Current time :\",datetime.now())\n",
    "    \n",
    "current_time()\n"
   ]
  },
  {
   "cell_type": "code",
   "execution_count": null,
   "metadata": {
    "id": "lbsQRnm-H81X"
   },
   "outputs": [],
   "source": [
    "3) Write a Python program which accepts the radius of a circle from the user and compute the area."
   ]
  },
  {
   "cell_type": "code",
   "execution_count": null,
   "metadata": {},
   "outputs": [],
   "source": [
    "import math as mth\n",
    "def cal_area_circle():\n",
    "    x = int(input(\"Area of circle : \"))\n",
    "    y = mth.pi\n",
    "    area_cir = y*x*x\n",
    "    print(type(y))\n",
    "    print(\"Area of circle : %s\" %area_cir)\n",
    "cal_area_circle()\n",
    "    \n",
    "    "
   ]
  },
  {
   "cell_type": "code",
   "execution_count": null,
   "metadata": {
    "id": "XUEz-sAMH81X"
   },
   "outputs": [],
   "source": [
    "4)Solve the expression. 5.2 + True + bool(-5) - 4 + 42//5 +bool(0) + False + int(5.9) + float('1')"
   ]
  },
  {
   "cell_type": "code",
   "execution_count": null,
   "metadata": {},
   "outputs": [],
   "source": [
    "x = 5.2 + True + bool(-5) -4 + 42\n",
    "print(x)\n",
    "y = 5 + bool(0) + False + int(5.9) + float('1')\n",
    "print(y)\n",
    "z = x // y\n",
    "z"
   ]
  },
  {
   "cell_type": "code",
   "execution_count": null,
   "metadata": {
    "id": "tmIin61BH81Y"
   },
   "outputs": [],
   "source": [
    "5)Write code to test whether the given number lies between 1 and 10"
   ]
  },
  {
   "cell_type": "code",
   "execution_count": null,
   "metadata": {},
   "outputs": [],
   "source": [
    "def validate_num():\n",
    "    x = int(input(\"Please enter a number : \"))\n",
    "    if x in range(0,11):\n",
    "        print(\"Given number %s is lies between 1 and 100\" %x)\n",
    "    else:\n",
    "        print(\"Given number %s is not lies between 1 and 100\" %x)\n",
    "validate_num()"
   ]
  },
  {
   "cell_type": "code",
   "execution_count": null,
   "metadata": {
    "id": "38pnHAXoH81a"
   },
   "outputs": [],
   "source": [
    "6)sum the numbers from 1 to 20 using for loop"
   ]
  },
  {
   "cell_type": "code",
   "execution_count": null,
   "metadata": {},
   "outputs": [],
   "source": [
    "\n",
    "def sum_num():\n",
    "    sum = 0 \n",
    "    for i in range(1,21):\n",
    "        sum = sum + i\n",
    "    print(\"Sum of 1 to 20 is %s\" % sum)\n",
    "sum_num()\n",
    "    \n",
    "    "
   ]
  },
  {
   "cell_type": "code",
   "execution_count": null,
   "metadata": {
    "id": "0iDsYc2QH81e"
   },
   "outputs": [],
   "source": [
    "7)Display the numbers in reverse from 100 to 1\n"
   ]
  },
  {
   "cell_type": "code",
   "execution_count": null,
   "metadata": {},
   "outputs": [],
   "source": [
    "'''\n",
    "for i in range(100,0,-1):\n",
    "    print(i)\n",
    "\n",
    "for i in range(1,101)[::-1]:\n",
    "    print(i)\n",
    "    \n",
    "n = 100\n",
    "i = 0\n",
    "while i < n:\n",
    "    i = i + 1\n",
    "    print(i)\n",
    "    \n",
    "'''"
   ]
  },
  {
   "cell_type": "code",
   "execution_count": null,
   "metadata": {},
   "outputs": [],
   "source": [
    "\n"
   ]
  },
  {
   "cell_type": "markdown",
   "metadata": {
    "id": "wmGQI-_jbpMl"
   },
   "source": []
  },
  {
   "cell_type": "code",
   "execution_count": null,
   "metadata": {
    "id": "-m-jjDT6H81f"
   },
   "outputs": [],
   "source": [
    "8)Display the numbers in reverse from 100 to 1"
   ]
  },
  {
   "cell_type": "code",
   "execution_count": null,
   "metadata": {
    "id": "9RhR9T8vH81g"
   },
   "outputs": [],
   "source": [
    "9)From the below nested dictionary, pick the word \"Bangalore\". \n",
    "d = {'1':'One','2':[1,{'Two':['Ch','Cbe','Salem',{'Place':[5,6,7,'Bangalore']}]}]}"
   ]
  },
  {
   "cell_type": "code",
   "execution_count": 17,
   "metadata": {},
   "outputs": [
    {
     "data": {
      "text/plain": [
       "'Bangalore'"
      ]
     },
     "execution_count": 17,
     "metadata": {},
     "output_type": "execute_result"
    }
   ],
   "source": [
    "d = {'1':'One','2':[1,{'Two':['Ch','Cbe','Salem',{'Place':[5,6,7,'Bangalore']}]}]}\n",
    "d['2'][1]['Two'][-1]['Place'][-1]\n"
   ]
  },
  {
   "cell_type": "code",
   "execution_count": null,
   "metadata": {
    "id": "iHEcZYUUH81h"
   },
   "outputs": [],
   "source": [
    "10)Use functions to return square of numbers from 2 to 5"
   ]
  },
  {
   "cell_type": "code",
   "execution_count": null,
   "metadata": {},
   "outputs": [],
   "source": [
    "import math as mth\n",
    "def square_root_num():\n",
    "    for i in range(2,6):\n",
    "        sqrt = mth.sqrt(i)\n",
    "        sqrt = round(sqrt,2)\n",
    "        print(\"Square root of %s -> %s\" %(i,sqrt))\n",
    "square_root_num()\n",
    "    "
   ]
  },
  {
   "cell_type": "code",
   "execution_count": null,
   "metadata": {
    "id": "SIi9bnn3H81i"
   },
   "outputs": [],
   "source": [
    "11)Write a Python program which accepts a sequence of comma-separated numbers from user and generate a list and a \n",
    "tuple with those numbers"
   ]
  },
  {
   "cell_type": "code",
   "execution_count": null,
   "metadata": {},
   "outputs": [],
   "source": [
    "def generate_list_tuple_from_usrinput():\n",
    "    input_num = input(\"Enter a comma-separted numbers to form list and tuple =>\")\n",
    "    to_list = list(input_num.split(','))\n",
    "    to_tuple= tuple(to_list)\n",
    "    #print(type(to_list))\n",
    "    #print(type(to_tuple))\n",
    "    print(\"Input number from user => \", input_num)\n",
    "    print(\"Converted to list => \", to_list)\n",
    "    print(\"Converted to tuple => \", to_tuple)\n",
    "generate_list_tuple_from_usrinput()"
   ]
  },
  {
   "cell_type": "code",
   "execution_count": null,
   "metadata": {
    "id": "D2wL-M_2H81k"
   },
   "outputs": [],
   "source": [
    "12) Write a Python program to display the first and last colors from the following list.\n",
    "color_list = [\"Red\",\"Green\",\"White\" ,\"Black\"]"
   ]
  },
  {
   "cell_type": "code",
   "execution_count": null,
   "metadata": {
    "id": "keoFQWOxBTS8"
   },
   "outputs": [],
   "source": [
    "def first_last_num_from_list():\n",
    "    color_list = [\"Red\",\"Green\",\"White\" ,\"Black\"]\n",
    "    print(\"Input list : \",color_list)\n",
    "    print(\"First number from list : \",color_list[0])\n",
    "    print(\"Last number from list : \",color_list[-1])\n",
    "first_last_num_from_list()"
   ]
  },
  {
   "cell_type": "code",
   "execution_count": null,
   "metadata": {
    "id": "J2c4tZriH81m"
   },
   "outputs": [],
   "source": [
    "13)Write a Python program to calculate number of days between two dates.\n",
    "Sample dates : (2014, 7, 2), (2014, 7, 11)"
   ]
  },
  {
   "cell_type": "code",
   "execution_count": null,
   "metadata": {},
   "outputs": [],
   "source": [
    "from datetime import date\n",
    "def find_days_in_dates(dt1,dt2):\n",
    "    date1 = date\n",
    "    date2 = date(dt2)\n",
    "    print(date1)\n",
    "    print(date2)\n",
    "   \n",
    "find_days_in_dates((2014, 7, 2), (2014, 7, 11))\n",
    "    \n"
   ]
  },
  {
   "cell_type": "code",
   "execution_count": null,
   "metadata": {
    "id": "AsESDEPkH81n"
   },
   "outputs": [],
   "source": [
    "14)Write a Python program to get the difference between a given number and 17,\n",
    "if the number is greater than 17 return double the absolute difference"
   ]
  },
  {
   "cell_type": "code",
   "execution_count": 16,
   "metadata": {},
   "outputs": [
    {
     "name": "stdout",
     "output_type": "stream",
     "text": [
      "Enter a number: 4\n",
      "Enter number is 4 and the difference between 17 is 13\n"
     ]
    }
   ],
   "source": [
    "def diff_in_number():\n",
    "    x = int(input(\"Enter a number: \"))\n",
    "    #print(type(x))\n",
    "    if x > 17:\n",
    "        result = abs(eval('17 - x'))\n",
    "        result = result*2\n",
    "        print(\"Enter number is %s as it is greater than 17 so double of difference is %s\" %(x,result))\n",
    "    else:\n",
    "        result = eval('17 - x')\n",
    "        print(\"Enter number is %s and the difference between 17 is %s\" %(x,result))\n",
    "\n",
    "diff_in_number()"
   ]
  },
  {
   "cell_type": "code",
   "execution_count": null,
   "metadata": {
    "id": "S_wTiWjYH81o"
   },
   "outputs": [],
   "source": [
    "15)To check whather given element exists in list or not??\n",
    "list=[1,2,3,4,5,6,7,8,9,10]\n",
    "check if 9 and 12 are present in given list or not"
   ]
  },
  {
   "cell_type": "code",
   "execution_count": 31,
   "metadata": {},
   "outputs": [
    {
     "name": "stdout",
     "output_type": "stream",
     "text": [
      "Enter a number : 4\n",
      "4\n",
      "The given number 4 is present in list [1, 2, 3, 4, 5, 6, 7, 8, 9, 10]\n"
     ]
    }
   ],
   "source": [
    "list=[1,2,3,4,5,6,7,8,9,10]\n",
    "x = int(input(\"Enter a number : \"))\n",
    "print(x)\n",
    "#print(type(x))\n",
    "if x in list:\n",
    "    print(\"The given number {} is present in list {}\" .format(x,list))\n",
    "else:\n",
    "    print(\"The given number {} is not present in list {}\" .format(x,list))"
   ]
  },
  {
   "cell_type": "code",
   "execution_count": 27,
   "metadata": {},
   "outputs": [
    {
     "name": "stdout",
     "output_type": "stream",
     "text": [
      " 9  and 12 are not present in give list\n"
     ]
    }
   ],
   "source": [
    "list=[1,2,3,4,5,6,7,8,9,10]\n",
    "if 9 in list and 12 in list:\n",
    "    print(\" 9 and 12 are present in given list\")\n",
    "else:\n",
    "    print(\" 9  and 12 are not present in give list\")"
   ]
  },
  {
   "cell_type": "code",
   "execution_count": null,
   "metadata": {
    "id": "d6XXaTzmH81q"
   },
   "outputs": [],
   "source": [
    "16)Write a function calculation() such that it can accept two variables and calculate the addition and subtraction of it.\n",
    "And also it must return both addition and subtraction in a single return call\n"
   ]
  },
  {
   "cell_type": "code",
   "execution_count": 39,
   "metadata": {},
   "outputs": [],
   "source": [
    "def calculation(x,y):\n",
    "    num1 = x\n",
    "    num2 = y\n",
    "    sum_num = eval('x + y')\n",
    "    sub_num = eval('x -y')\n",
    "    return (sum_num,sub_num)\n"
   ]
  },
  {
   "cell_type": "code",
   "execution_count": 40,
   "metadata": {},
   "outputs": [
    {
     "data": {
      "text/plain": [
       "(15, 5)"
      ]
     },
     "execution_count": 40,
     "metadata": {},
     "output_type": "execute_result"
    }
   ],
   "source": [
    "calculation(10,5)"
   ]
  },
  {
   "cell_type": "code",
   "execution_count": null,
   "metadata": {
    "id": "yYYgzqaCH81r"
   },
   "outputs": [],
   "source": [
    "17)Create a function showEmployee() in such a way that it should accept employee name, and it’s salary and display both,\n",
    "and if the salary is missing in function call it should show it as 9000"
   ]
  },
  {
   "cell_type": "code",
   "execution_count": null,
   "metadata": {},
   "outputs": [],
   "source": []
  },
  {
   "cell_type": "code",
   "execution_count": null,
   "metadata": {},
   "outputs": [],
   "source": []
  },
  {
   "cell_type": "code",
   "execution_count": 26,
   "metadata": {
    "id": "3QDV35a7H81s"
   },
   "outputs": [
    {
     "ename": "SyntaxError",
     "evalue": "invalid syntax (<ipython-input-26-11424657ce8f>, line 1)",
     "output_type": "error",
     "traceback": [
      "\u001b[1;36m  File \u001b[1;32m\"<ipython-input-26-11424657ce8f>\"\u001b[1;36m, line \u001b[1;32m1\u001b[0m\n\u001b[1;33m    18) Write a recursive function to calculate the sum of numbers from 0 to 10\u001b[0m\n\u001b[1;37m      ^\u001b[0m\n\u001b[1;31mSyntaxError\u001b[0m\u001b[1;31m:\u001b[0m invalid syntax\n"
     ]
    }
   ],
   "source": [
    "18) Write a recursive function to calculate the sum of numbers from 0 to 10"
   ]
  },
  {
   "cell_type": "code",
   "execution_count": 48,
   "metadata": {},
   "outputs": [
    {
     "ename": "TypeError",
     "evalue": "'int' object is not iterable",
     "output_type": "error",
     "traceback": [
      "\u001b[1;31m---------------------------------------------------------------------------\u001b[0m",
      "\u001b[1;31mTypeError\u001b[0m                                 Traceback (most recent call last)",
      "\u001b[1;32m<ipython-input-48-94e01b56598a>\u001b[0m in \u001b[0;36m<module>\u001b[1;34m\u001b[0m\n\u001b[0;32m      5\u001b[0m     \u001b[1;32mfor\u001b[0m \u001b[0mi\u001b[0m \u001b[1;32min\u001b[0m \u001b[1;36m10\u001b[0m\u001b[1;33m:\u001b[0m\u001b[1;33m\u001b[0m\u001b[1;33m\u001b[0m\u001b[0m\n\u001b[0;32m      6\u001b[0m         \u001b[0mprint\u001b[0m\u001b[1;33m(\u001b[0m\u001b[0mi\u001b[0m\u001b[1;33m)\u001b[0m\u001b[1;33m\u001b[0m\u001b[1;33m\u001b[0m\u001b[0m\n\u001b[1;32m----> 7\u001b[1;33m \u001b[0msum_of_numbers\u001b[0m\u001b[1;33m(\u001b[0m\u001b[1;33m)\u001b[0m\u001b[1;33m\u001b[0m\u001b[1;33m\u001b[0m\u001b[0m\n\u001b[0m",
      "\u001b[1;32m<ipython-input-48-94e01b56598a>\u001b[0m in \u001b[0;36msum_of_numbers\u001b[1;34m()\u001b[0m\n\u001b[0;32m      3\u001b[0m     \u001b[0mn\u001b[0m\u001b[1;33m=\u001b[0m\u001b[1;36m10\u001b[0m\u001b[1;33m\u001b[0m\u001b[1;33m\u001b[0m\u001b[0m\n\u001b[0;32m      4\u001b[0m     \u001b[0mi\u001b[0m \u001b[1;33m=\u001b[0m \u001b[1;36m0\u001b[0m\u001b[1;33m\u001b[0m\u001b[1;33m\u001b[0m\u001b[0m\n\u001b[1;32m----> 5\u001b[1;33m     \u001b[1;32mfor\u001b[0m \u001b[0mi\u001b[0m \u001b[1;32min\u001b[0m \u001b[1;36m10\u001b[0m\u001b[1;33m:\u001b[0m\u001b[1;33m\u001b[0m\u001b[1;33m\u001b[0m\u001b[0m\n\u001b[0m\u001b[0;32m      6\u001b[0m         \u001b[0mprint\u001b[0m\u001b[1;33m(\u001b[0m\u001b[0mi\u001b[0m\u001b[1;33m)\u001b[0m\u001b[1;33m\u001b[0m\u001b[1;33m\u001b[0m\u001b[0m\n\u001b[0;32m      7\u001b[0m \u001b[0msum_of_numbers\u001b[0m\u001b[1;33m(\u001b[0m\u001b[1;33m)\u001b[0m\u001b[1;33m\u001b[0m\u001b[1;33m\u001b[0m\u001b[0m\n",
      "\u001b[1;31mTypeError\u001b[0m: 'int' object is not iterable"
     ]
    }
   ],
   "source": [
    "def sum_of_numbers():\n",
    "    sum=0\n",
    "    n=10\n",
    "    i = 0\n",
    "    for i in 10:\n",
    "        print(i)\n",
    "sum_of_numbers()"
   ]
  },
  {
   "cell_type": "code",
   "execution_count": null,
   "metadata": {
    "id": "GQa86leJH81t"
   },
   "outputs": [],
   "source": [
    "19)Generate a Python list of all the even numbers between 4 to 30"
   ]
  },
  {
   "cell_type": "code",
   "execution_count": 44,
   "metadata": {},
   "outputs": [
    {
     "name": "stdout",
     "output_type": "stream",
     "text": [
      "List of all the even numbers between 4 to 30  is [4, 6, 8, 10, 12, 14, 16, 18, 20, 22, 24, 26, 28, 30]\n"
     ]
    }
   ],
   "source": [
    "def find_even_num():\n",
    "    even_list = []\n",
    "    for i in range(4,31):\n",
    "        if i%2 == 0:\n",
    "            even_list.append(i)\n",
    "    print(\"List of all the even numbers between 4 to 30  is {}\".format(even_list))\n",
    "\n",
    "find_even_num()"
   ]
  },
  {
   "cell_type": "code",
   "execution_count": null,
   "metadata": {
    "colab": {
     "base_uri": "https://localhost:8080/",
     "height": 128
    },
    "executionInfo": {
     "elapsed": 376,
     "status": "error",
     "timestamp": 1633760082639,
     "user": {
      "displayName": "Mohammed Musthafa",
      "photoUrl": "https://lh3.googleusercontent.com/a-/AOh14GgnGqspvBFgAIONCjHrNaojxOIrPVHNPi_o9jv6=s64",
      "userId": "17392422423006605981"
     },
     "user_tz": -330
    },
    "id": "mPpDIWk7H82P",
    "outputId": "098d8e08-104e-40a2-fe9f-2441a669c5ad"
   },
   "outputs": [],
   "source": [
    "20)Return the largest item from the given list"
   ]
  },
  {
   "cell_type": "code",
   "execution_count": 24,
   "metadata": {},
   "outputs": [
    {
     "name": "stdout",
     "output_type": "stream",
     "text": [
      "Please enter the list of number separted by comma to find max of it :12,34,688,2,3\n",
      "Largest number from the given list 12,34,688,2,3   => 688\n"
     ]
    }
   ],
   "source": [
    "def max_item_from_list():\n",
    "    x = input(\"Please enter the list of number separted by comma to find max of it :\")\n",
    "    y = list(x.split(','))\n",
    "    #print(type(y))\n",
    "    print(\"Largest number from the given list {}   => {}\" .format(x,max(y)))\n",
    "    \n",
    "max_item_from_list()"
   ]
  }
 ],
 "metadata": {
  "colab": {
   "name": "Python_Practice_Assignment_(1).ipynb",
   "provenance": []
  },
  "kernelspec": {
   "display_name": "Python 3",
   "language": "python",
   "name": "python3"
  },
  "language_info": {
   "codemirror_mode": {
    "name": "ipython",
    "version": 3
   },
   "file_extension": ".py",
   "mimetype": "text/x-python",
   "name": "python",
   "nbconvert_exporter": "python",
   "pygments_lexer": "ipython3",
   "version": "3.8.8"
  }
 },
 "nbformat": 4,
 "nbformat_minor": 1
}
